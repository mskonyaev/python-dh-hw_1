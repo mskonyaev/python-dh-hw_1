{
 "cells": [
  {
   "cell_type": "code",
   "execution_count": 7,
   "metadata": {},
   "outputs": [
    {
     "name": "stdout",
     "output_type": "stream",
     "text": [
      "шалаш\n",
      "YES\n",
      "собака\n",
      "NO\n"
     ]
    }
   ],
   "source": [
    "#задание номер 2. слова принимаются через input()\n",
    "##пример для слова \"шалаш\" (ответ YES)\n",
    "slovo = str(input())\n",
    "b = slovo[::-1]\n",
    "if slovo == b:\n",
    "    print(\"YES\")\n",
    "else:\n",
    "    print(\"NO\")\n",
    "\n",
    "    \n",
    "##пример для слова \"собака\" (ответ NO)\n",
    "slovo = str(input())\n",
    "b = slovo[::-1]\n",
    "if slovo == b:\n",
    "    print(\"YES\")\n",
    "else:\n",
    "    print(\"NO\")"
   ]
  },
  {
   "cell_type": "code",
   "execution_count": 41,
   "metadata": {},
   "outputs": [
    {
     "name": "stdout",
     "output_type": "stream",
     "text": [
      "_\n",
      "n\n",
      "Is_th\n",
      "Is_this_the_life_we_really_wa\n",
      "I_hstelf_eral_at\n",
      "sti_h_iew_elywn\n",
      "tnaw_yllaer_ew_efil_eht_siht_sI\n",
      "ta_lare_fletsh_I\n",
      "31\n"
     ]
    }
   ],
   "source": [
    "#задание номер 1\n",
    "s = \"Is_this_the_life_we_really_want\"\n",
    "#1 - третий символ строки\n",
    "print(s[2])\n",
    "#2 - предпоследний символ строки\n",
    "print(s[-2])\n",
    "#3 - первые пять символов символов строки\n",
    "print(s[:5])\n",
    "#4 -вся строка, кроме последних двух символов\n",
    "print(s[:-2])\n",
    "#5 - все символы с четными индексами\n",
    "print(s[::2])\n",
    "#6 - все символы с нечетными индексами\n",
    "print(s[1::2])\n",
    "#7 - все символы в обратном порядке\n",
    "print(s[::-1])\n",
    "#8 - все символы строки через один в обратном порядке, начиная с последнего\n",
    "print(s[::-2])\n",
    "#9 - длина данной строки\n",
    "print(len(s))\n"
   ]
  },
  {
   "cell_type": "code",
   "execution_count": 43,
   "metadata": {},
   "outputs": [
    {
     "name": "stdout",
     "output_type": "stream",
     "text": [
      "['one', 'two', 'three']\n",
      "five\n",
      "4\n"
     ]
    }
   ],
   "source": [
    "#задание номер 3\n",
    "my_list = [\"one\", \"two\", \"three\"]\n",
    "print(my_list)\n",
    "elem = input()\n",
    "my_list.append(elem)\n",
    "print(len(my_list))"
   ]
  },
  {
   "cell_type": "code",
   "execution_count": null,
   "metadata": {},
   "outputs": [],
   "source": []
  },
  {
   "cell_type": "code",
   "execution_count": null,
   "metadata": {},
   "outputs": [],
   "source": []
  }
 ],
 "metadata": {
  "kernelspec": {
   "display_name": "Python 3",
   "language": "python",
   "name": "python3"
  },
  "language_info": {
   "codemirror_mode": {
    "name": "ipython",
    "version": 3
   },
   "file_extension": ".py",
   "mimetype": "text/x-python",
   "name": "python",
   "nbconvert_exporter": "python",
   "pygments_lexer": "ipython3",
   "version": "3.6.4"
  }
 },
 "nbformat": 4,
 "nbformat_minor": 2
}
