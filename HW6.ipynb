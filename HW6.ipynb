{
 "cells": [
  {
   "cell_type": "code",
   "execution_count": 23,
   "metadata": {},
   "outputs": [
    {
     "name": "stdout",
     "output_type": "stream",
     "text": [
      "Биграмма нн встретилась 1 раз\n"
     ]
    }
   ],
   "source": [
    "#задача 1\n",
    "text = \"абракадабра фокус покус десятка за курс немедленно появись\"\n",
    "spisok = []\n",
    "text1= [char for char in text if char !=\" \"]\n",
    "text1= \"\".join(text1)\n",
    "for i in range(len(text1)-1):\n",
    "    b=text1[i]+text1[i+1]\n",
    "    spisok.append(b)\n",
    "slovar={}\n",
    "for d in spisok:\n",
    "    if d in slovar:\n",
    "        slovar[d]+=1\n",
    "    else:\n",
    "        slovar[d]=1\n",
    "for k,v in slovar.items():\n",
    "    if k[0]==k[1]:\n",
    "        print(\"Биграмма %s встретилась %s раз\" % (k,v))\n",
    "    "
   ]
  },
  {
   "cell_type": "code",
   "execution_count": 46,
   "metadata": {},
   "outputs": [
    {
     "name": "stdout",
     "output_type": "stream",
     "text": [
      "YES\n",
      "NO\n"
     ]
    }
   ],
   "source": [
    "#задача 2\n",
    "##вариант 1\n",
    "slovo1 = str(input())\n",
    "slovo2 = str(input())\n",
    "b = slovo1[::-1]\n",
    "if b == slovo2:\n",
    "  print(\"YES\")\n",
    "else:\n",
    "  print(\"NO\")\n",
    "\n",
    "\n"
   ]
  },
  {
   "cell_type": "code",
   "execution_count": null,
   "metadata": {},
   "outputs": [],
   "source": []
  },
  {
   "cell_type": "code",
   "execution_count": 1,
   "metadata": {},
   "outputs": [
    {
     "name": "stdout",
     "output_type": "stream",
     "text": [
      "YES\n",
      "NO\n"
     ]
    }
   ],
   "source": [
    "#задание 2 - вариант 2 (изначальный, жалко удалять)\n",
    "##первая пара слов (ответ - да)\n",
    "slovo1 = \"кот\"\n",
    "slovo2 = \"ток\"\n",
    "slovo1razvorot = []\n",
    "for i in slovo1:\n",
    "    b = slovo1[2]+slovo1[1]+slovo1[0]\n",
    "    slovo1razvorot.append(b)\n",
    "    break\n",
    "d = ''.join(slovo1razvorot)\n",
    "if d == slovo2:\n",
    "    print(\"YES\")\n",
    "else:\n",
    "    print(\"NO\")\n",
    "\n",
    "#вторая пара слов (ответ - нет)\n",
    "slovo1 = \"кот\"\n",
    "slovo2 = \"кит\"\n",
    "slovo1razvorot = []\n",
    "for i in slovo1:\n",
    "    b = slovo1[2]+slovo1[1]+slovo1[0]\n",
    "    slovo1razvorot.append(b)\n",
    "    break\n",
    "d = ''.join(slovo1razvorot)\n",
    "if d == slovo2:\n",
    "    print(\"YES\")\n",
    "else:\n",
    "    print(\"NO\")\n"
   ]
  },
  {
   "cell_type": "code",
   "execution_count": null,
   "metadata": {},
   "outputs": [],
   "source": [
    "\n",
    "    \n"
   ]
  },
  {
   "cell_type": "code",
   "execution_count": null,
   "metadata": {},
   "outputs": [],
   "source": []
  }
 ],
 "metadata": {
  "kernelspec": {
   "display_name": "Python 3",
   "language": "python",
   "name": "python3"
  },
  "language_info": {
   "codemirror_mode": {
    "name": "ipython",
    "version": 3
   },
   "file_extension": ".py",
   "mimetype": "text/x-python",
   "name": "python",
   "nbconvert_exporter": "python",
   "pygments_lexer": "ipython3",
   "version": "3.6.4"
  }
 },
 "nbformat": 4,
 "nbformat_minor": 2
}
