{
 "cells": [
  {
   "cell_type": "code",
   "execution_count": 1,
   "metadata": {},
   "outputs": [
    {
     "name": "stdout",
     "output_type": "stream",
     "text": [
      "Type number: 5\n",
      "   _~_       _~_       _~_       _~_       _~_    \n",
      "  (o o)     (o o)     (o o)     (o o)     (o o)   \n",
      " /  V  \\   /  V  \\   /  V  \\   /  V  \\   /  V  \\  \n",
      "/(  _  )\\ /(  _  )\\ /(  _  )\\ /(  _  )\\ /(  _  )\\ \n",
      "  ^^ ^^     ^^ ^^     ^^ ^^     ^^ ^^     ^^ ^^   \n"
     ]
    }
   ],
   "source": [
    "#задание номер 1. вывод пингвинов. число принимается через input()\n",
    "x = input(\"Type number: \")\n",
    "try:\n",
    "    x = int(x)\n",
    "except:\n",
    "    print(\"That is not a number. Please, try again\")\n",
    "    quit()\n",
    "p = \"   _~_    \"\n",
    "e = \"  (o o)   \"\n",
    "n = \" /  V  \\\\  \"\n",
    "g = \"/(  _  )\\\\ \"\n",
    "u = \"  ^^ ^^   \"\n",
    "p2 = p*x\n",
    "e2 = e*x\n",
    "n2 = n*x\n",
    "g2 = g*x\n",
    "u2 = u*x\n",
    "def a():\n",
    "    print(p2)\n",
    "    print(e2)\n",
    "    print(n2)\n",
    "    print(g2)\n",
    "    print(u2)\n",
    "a()"
   ]
  },
  {
   "cell_type": "code",
   "execution_count": 15,
   "metadata": {},
   "outputs": [
    {
     "name": "stdout",
     "output_type": "stream",
     "text": [
      "Введите предложение: я люблю картошку\n",
      "3\n"
     ]
    }
   ],
   "source": [
    "#задание н2 - подсчет количества слов в предложении. Предложение принимается через input\n",
    "sentence = input(\"Введите предложение: \")\n",
    "words = sentence.split() \n",
    "\n",
    "print(len(words))"
   ]
  },
  {
   "cell_type": "code",
   "execution_count": null,
   "metadata": {},
   "outputs": [],
   "source": []
  },
  {
   "cell_type": "code",
   "execution_count": null,
   "metadata": {},
   "outputs": [],
   "source": []
  }
 ],
 "metadata": {
  "kernelspec": {
   "display_name": "Python 3",
   "language": "python",
   "name": "python3"
  },
  "language_info": {
   "codemirror_mode": {
    "name": "ipython",
    "version": 3
   },
   "file_extension": ".py",
   "mimetype": "text/x-python",
   "name": "python",
   "nbconvert_exporter": "python",
   "pygments_lexer": "ipython3",
   "version": "3.6.4"
  }
 },
 "nbformat": 4,
 "nbformat_minor": 2
}
